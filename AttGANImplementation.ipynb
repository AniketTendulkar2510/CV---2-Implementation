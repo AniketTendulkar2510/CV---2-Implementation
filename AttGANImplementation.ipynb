{
  "nbformat": 4,
  "nbformat_minor": 0,
  "metadata": {
    "colab": {
      "name": "AttGANImplementation.ipynb",
      "provenance": []
    },
    "kernelspec": {
      "name": "python3",
      "display_name": "Python 3"
    },
    "language_info": {
      "name": "python"
    },
    "accelerator": "GPU",
    "gpuClass": "standard"
  },
  "cells": [
    {
      "cell_type": "markdown",
      "source": [
        "Run the following command for cloning the GitHub repository for AttGAN"
      ],
      "metadata": {
        "id": "z4Ce7HP8Ypw3"
      }
    },
    {
      "cell_type": "code",
      "execution_count": null,
      "metadata": {
        "id": "8EVBAH_ew6-h"
      },
      "outputs": [],
      "source": [
        "!git clone https://github.com/LynnHo/AttGAN-Tensorflow.git"
      ]
    },
    {
      "cell_type": "markdown",
      "source": [
        "Checking for the environment variables"
      ],
      "metadata": {
        "id": "0NugJTayY3-Q"
      }
    },
    {
      "cell_type": "code",
      "source": [
        "%env PYTHONPATH="
      ],
      "metadata": {
        "id": "Jvt1QTCUxWf0"
      },
      "execution_count": null,
      "outputs": []
    },
    {
      "cell_type": "markdown",
      "source": [
        "Installing the environment MiniConda"
      ],
      "metadata": {
        "id": "H4oOQQU2Y-KK"
      }
    },
    {
      "cell_type": "code",
      "source": [
        "%%bash\n",
        "MINICONDA_INSTALLER_SCRIPT=Miniconda3-4.5.4-Linux-x86_64.sh\n",
        "MINICONDA_PREFIX=/usr/local\n",
        "wget https://repo.continuum.io/miniconda/$MINICONDA_INSTALLER_SCRIPT\n",
        "chmod +x $MINICONDA_INSTALLER_SCRIPT\n",
        "./$MINICONDA_INSTALLER_SCRIPT -b -f -p $MINICONDA_PREFIX"
      ],
      "metadata": {
        "id": "1S7zYTKYxb9j"
      },
      "execution_count": null,
      "outputs": []
    },
    {
      "cell_type": "markdown",
      "source": [
        "Making Sure we have the correct version control system"
      ],
      "metadata": {
        "id": "WtWcytrhZC0A"
      }
    },
    {
      "cell_type": "code",
      "source": [
        "!conda --version"
      ],
      "metadata": {
        "id": "OxNCCZJ8xgiy"
      },
      "execution_count": null,
      "outputs": []
    },
    {
      "cell_type": "markdown",
      "source": [
        "Upfate the python and conda version"
      ],
      "metadata": {
        "id": "njbPl3loZIkq"
      }
    },
    {
      "cell_type": "code",
      "source": [
        "%%bash\n",
        "conda install --channel defaults conda python=3.6 --yes\n",
        "conda update --channel defaults --all --yes"
      ],
      "metadata": {
        "id": "Oyu0GdqtxoDK"
      },
      "execution_count": null,
      "outputs": []
    },
    {
      "cell_type": "markdown",
      "source": [
        "Checking the versions"
      ],
      "metadata": {
        "id": "sfBdEV89ZNxC"
      }
    },
    {
      "cell_type": "code",
      "source": [
        "!conda --version"
      ],
      "metadata": {
        "id": "ZoskEu_Xx11D"
      },
      "execution_count": null,
      "outputs": []
    },
    {
      "cell_type": "code",
      "source": [
        "!python --version"
      ],
      "metadata": {
        "id": "0Vj7mHwwx-t7"
      },
      "execution_count": null,
      "outputs": []
    },
    {
      "cell_type": "markdown",
      "source": [
        "Changing the system path variable"
      ],
      "metadata": {
        "id": "nKBgdY9XZRXc"
      }
    },
    {
      "cell_type": "code",
      "source": [
        "import sys\n",
        "sys.path"
      ],
      "metadata": {
        "id": "kuwhDICSyBSN"
      },
      "execution_count": null,
      "outputs": []
    },
    {
      "cell_type": "code",
      "source": [
        "import sys\n",
        "_ = (sys.path\n",
        "        .append(\"/usr/local/lib/python3.6/site-packages\"))"
      ],
      "metadata": {
        "id": "ZHVNrPgYyEBc"
      },
      "execution_count": null,
      "outputs": []
    },
    {
      "cell_type": "markdown",
      "source": [
        "Installing the feature tools, running this may take about 5 minutes"
      ],
      "metadata": {
        "id": "mRhzrCVoZVR-"
      }
    },
    {
      "cell_type": "code",
      "source": [
        "!conda install --channel conda-forge featuretools --yes"
      ],
      "metadata": {
        "id": "RaX6BfCtyG68"
      },
      "execution_count": null,
      "outputs": []
    },
    {
      "cell_type": "code",
      "source": [
        "!conda --version"
      ],
      "metadata": {
        "id": "KibO2BcEzV5E"
      },
      "execution_count": null,
      "outputs": []
    },
    {
      "cell_type": "code",
      "source": [
        "!python --version"
      ],
      "metadata": {
        "id": "9HpEoYP0zqPi"
      },
      "execution_count": null,
      "outputs": []
    },
    {
      "cell_type": "markdown",
      "source": [
        "Appending the environment path to the system variables"
      ],
      "metadata": {
        "id": "uml_ev45Za_f"
      }
    },
    {
      "cell_type": "code",
      "source": [
        "import sys\n",
        "sys.path"
      ],
      "metadata": {
        "id": "W29-Vx32ztdW"
      },
      "execution_count": null,
      "outputs": []
    },
    {
      "cell_type": "code",
      "source": [
        "%%bash\n",
        "source activate myenv\n",
        "\n",
        "python\n",
        "import sys\n",
        "# some simple python commands\n",
        "sys.path.append('/usr/local/lib/python3.6/site-packages')\n",
        "print(sys.path)\n",
        "\n",
        "print(\"Python version\")\n",
        "print(sys.version)"
      ],
      "metadata": {
        "id": "ih3XKLmmzy2G"
      },
      "execution_count": null,
      "outputs": []
    },
    {
      "cell_type": "code",
      "source": [
        "!conda update conda -y -q\n",
        "!source /usr/local/etc/profile.d/conda.sh\n",
        "!conda init \n",
        "!conda install -n root _license -y -q"
      ],
      "metadata": {
        "id": "JQXmbRwN0A8E"
      },
      "execution_count": null,
      "outputs": []
    },
    {
      "cell_type": "markdown",
      "source": [
        "Installing the conda environment and activating AttGAN, opencv and conda-forge oyaml"
      ],
      "metadata": {
        "id": "9EeE5fiOZqhg"
      }
    },
    {
      "cell_type": "code",
      "source": [
        "!conda create -n AttGAN python=3.6\n",
        "\n",
        "!source activate AttGAN\n",
        "\n",
        "!conda install opencv scikit-image tqdm tensorflow-gpu=1.15\n",
        "\n",
        "!conda install -c conda-forge oyaml"
      ],
      "metadata": {
        "id": "RpixAHmy0PWX"
      },
      "execution_count": null,
      "outputs": []
    },
    {
      "cell_type": "markdown",
      "source": [
        "Actiavting AttGAN from the source"
      ],
      "metadata": {
        "id": "tvR8u_P-ZtRL"
      }
    },
    {
      "cell_type": "code",
      "source": [
        "!source activate AttGAN"
      ],
      "metadata": {
        "id": "hEMEdq7q1QgF"
      },
      "execution_count": null,
      "outputs": []
    },
    {
      "cell_type": "code",
      "source": [
        "%cd /content/AttGAN-Tensorflow/"
      ],
      "metadata": {
        "id": "xwC2vP9P8l6n"
      },
      "execution_count": null,
      "outputs": []
    },
    {
      "cell_type": "markdown",
      "source": [
        "Make a directory called data inside the AttGAN-Tensorflow folder"
      ],
      "metadata": {
        "id": "O6VLM0JbZ1vi"
      }
    },
    {
      "cell_type": "code",
      "source": [
        "%cd data/\n"
      ],
      "metadata": {
        "id": "ERjJw-Ku9A2p"
      },
      "execution_count": null,
      "outputs": []
    },
    {
      "cell_type": "markdown",
      "source": [
        "Downloading the dataset already uploaded to Google Drive"
      ],
      "metadata": {
        "id": "W2S_z_axaFp1"
      }
    },
    {
      "cell_type": "code",
      "source": [
        "! gdown --id 1bCXiaG1ph1XB9sUWHsoCCO_EYf_DlEza"
      ],
      "metadata": {
        "id": "RsQHINxU_B_p"
      },
      "execution_count": null,
      "outputs": []
    },
    {
      "cell_type": "code",
      "source": [
        "%cd /content/AttGAN-Tensorflow/"
      ],
      "metadata": {
        "id": "3tBZPt8e_WPn"
      },
      "execution_count": null,
      "outputs": []
    },
    {
      "cell_type": "markdown",
      "source": [
        "Unzipping the data"
      ],
      "metadata": {
        "id": "HJmM9AxYaOyY"
      }
    },
    {
      "cell_type": "code",
      "source": [
        "!unzip ./data/CelebAMask-HQ.zip -d ./data/"
      ],
      "metadata": {
        "id": "TkzUZU5J_Xxl"
      },
      "execution_count": null,
      "outputs": []
    },
    {
      "cell_type": "code",
      "source": [
        "!python ./scripts/split_CelebA-HQ.py"
      ],
      "metadata": {
        "id": "Q0ZoLngNbQ6B"
      },
      "execution_count": null,
      "outputs": []
    },
    {
      "cell_type": "markdown",
      "source": [
        "Make an output directory in the AttGAN folder before running the following command"
      ],
      "metadata": {
        "id": "CY0QeF5LaSc_"
      }
    },
    {
      "cell_type": "code",
      "source": [
        "%cd output/"
      ],
      "metadata": {
        "id": "CZv4_g-DXE_F"
      },
      "execution_count": null,
      "outputs": []
    },
    {
      "cell_type": "markdown",
      "source": [
        "Downloading the pre-trained model"
      ],
      "metadata": {
        "id": "_LH_UTv9aaBV"
      }
    },
    {
      "cell_type": "code",
      "source": [
        "! gdown 1c4IEzya_bzKCOCHYDuV0U2YurB00Uzem"
      ],
      "metadata": {
        "id": "_dz9BWDlYRzt"
      },
      "execution_count": null,
      "outputs": []
    },
    {
      "cell_type": "code",
      "source": [
        "%cd /content/AttGAN-Tensorflow/"
      ],
      "metadata": {
        "id": "TPYpPvttY7eF"
      },
      "execution_count": null,
      "outputs": []
    },
    {
      "cell_type": "markdown",
      "source": [
        "Unzipping the data"
      ],
      "metadata": {
        "id": "GmLdDL6CahBl"
      }
    },
    {
      "cell_type": "code",
      "source": [
        "!unzip ./output/AttGAN_128.zip -d ./output/"
      ],
      "metadata": {
        "id": "PHAUvqDDY_vs"
      },
      "execution_count": null,
      "outputs": []
    },
    {
      "cell_type": "markdown",
      "source": [
        "Run the following command for single attribute testing"
      ],
      "metadata": {
        "id": "GUyZNDuJapJr"
      }
    },
    {
      "cell_type": "code",
      "source": [
        "!CUDA_VISIBLE_DEVICES=0 \\\n",
        "python test.py \\\n",
        "--img_dir ./data/CelebAMask-HQ/CelebA-HQ-img \\\n",
        "--test_label_path ./data/CelebAMask-HQ/test_label.txt \\\n",
        "--experiment_name AttGAN_128"
      ],
      "metadata": {
        "id": "Mq0-Whn2Za7C"
      },
      "execution_count": null,
      "outputs": []
    },
    {
      "cell_type": "markdown",
      "source": [
        "Run the following command for testing of multiple attributes"
      ],
      "metadata": {
        "id": "c_t30451a62t"
      }
    },
    {
      "cell_type": "code",
      "source": [
        "!CUDA_VISIBLE_DEVICES=0 \\\n",
        "python test_multi.py \\\n",
        "--img_dir ./data/CelebAMask-HQ/CelebA-HQ-img \\\n",
        "--test_label_path ./data/CelebAMask-HQ/test_label.txt \\\n",
        "--test_att_names  Bangs Blond_Hair \\\n",
        "--experiment_name AttGAN_128"
      ],
      "metadata": {
        "id": "ns4-wSfHe7kE"
      },
      "execution_count": null,
      "outputs": []
    },
    {
      "cell_type": "markdown",
      "source": [
        "Run the following command for testing for Attribute Sliding"
      ],
      "metadata": {
        "id": "KtfP3HXva_it"
      }
    },
    {
      "cell_type": "code",
      "source": [
        "!CUDA_VISIBLE_DEVICES=0 \\\n",
        "python test_slide.py \\\n",
        "--img_dir ./data/CelebAMask-HQ/CelebA-HQ-img \\\n",
        "--test_label_path ./data/CelebAMask-HQ/test_label.txt \\\n",
        "--test_att_name Brown_Hair \\\n",
        "--test_int_min -2 \\\n",
        "--test_int_max 2 \\\n",
        "--test_int_step 0.5 \\\n",
        "--experiment_name AttGAN_128"
      ],
      "metadata": {
        "id": "4jstBOr9fub3"
      },
      "execution_count": null,
      "outputs": []
    },
    {
      "cell_type": "code",
      "source": [
        "!CUDA_VISIBLE_DEVICES=0 \\\n",
        "python test_slide.py \\\n",
        "--img_dir ./data/CelebAMask-HQ/CelebA-HQ-img \\\n",
        "--test_label_path ./data/CelebAMask-HQ/test_label.txt \\\n",
        "--test_att_name Blond_Hair \\\n",
        "--test_int_min -2 \\\n",
        "--test_int_max 2 \\\n",
        "--test_int_step 0.5 \\\n",
        "--experiment_name AttGAN_128"
      ],
      "metadata": {
        "id": "HmMvUJv1OGJC"
      },
      "execution_count": null,
      "outputs": []
    },
    {
      "cell_type": "code",
      "source": [
        "!CUDA_VISIBLE_DEVICES=0 \\\n",
        "python test_slide.py \\\n",
        "--img_dir ./data/CelebAMask-HQ/CelebA-HQ-img \\\n",
        "--test_label_path ./data/CelebAMask-HQ/test_label.txt \\\n",
        "--test_att_name Blond_Hair \\\n",
        "--test_int_min -2 \\\n",
        "--test_int_max 2 \\\n",
        "--test_int_step 0.5 \\\n",
        "--experiment_name AttGAN_128"
      ],
      "metadata": {
        "id": "8pxyS629c9a4"
      },
      "execution_count": null,
      "outputs": []
    },
    {
      "cell_type": "markdown",
      "source": [
        "Testing for multiple attributes"
      ],
      "metadata": {
        "id": "QlGQPjeFbHgZ"
      }
    },
    {
      "cell_type": "code",
      "source": [
        "!CUDA_VISIBLE_DEVICES=0 \\\n",
        "python test_multi.py \\\n",
        "--img_dir ./data/CelebAMask-HQ/CelebA-HQ-img \\\n",
        "--test_label_path ./data/CelebAMask-HQ/test_label.txt \\\n",
        "--test_att_names Black_Hair Eyeglasses Mustache \\\n",
        "--experiment_name AttGAN_128"
      ],
      "metadata": {
        "id": "OLrj9IApSaMJ"
      },
      "execution_count": null,
      "outputs": []
    },
    {
      "cell_type": "code",
      "source": [
        "!CUDA_VISIBLE_DEVICES=0 \\\n",
        "python test_multi.py \\\n",
        "--img_dir ./data/CelebAMask-HQ/CelebA-HQ-img \\\n",
        "--test_label_path ./data/CelebAMask-HQ/test_label.txt \\\n",
        "--test_att_names Brown_Hair No_Beard \\\n",
        "--experiment_name AttGAN_128"
      ],
      "metadata": {
        "id": "jnVSESnNWKFG"
      },
      "execution_count": null,
      "outputs": []
    },
    {
      "cell_type": "code",
      "source": [
        "!CUDA_VISIBLE_DEVICES='' \\\n",
        "tensorboard \\\n",
        "--logdir ./output/AttGAN_128/summaries \\\n",
        "--port 6006"
      ],
      "metadata": {
        "id": "RXzE7TIDceM6"
      },
      "execution_count": null,
      "outputs": []
    },
    {
      "cell_type": "code",
      "source": [
        "!python to_pb.py --experiment_name AttGAN_128"
      ],
      "metadata": {
        "id": "OoI9uurmc-5n"
      },
      "execution_count": null,
      "outputs": []
    },
    {
      "cell_type": "code",
      "source": [
        "!zip -r /content/file.zip /content/AttGAN-Tensorflow/output/AttGAN_128/samples_testing_2"
      ],
      "metadata": {
        "id": "MIRFYuBJrKiZ"
      },
      "execution_count": null,
      "outputs": []
    },
    {
      "cell_type": "code",
      "source": [
        "from google.colab import files\n",
        "files.download(\"/content/file.zip\")"
      ],
      "metadata": {
        "colab": {
          "base_uri": "https://localhost:8080/",
          "height": 34
        },
        "id": "_lNWxKGSrtkS",
        "outputId": "6e71855a-aadb-44ff-a6a7-86b7dc7782d9"
      },
      "execution_count": null,
      "outputs": [
        {
          "output_type": "display_data",
          "data": {
            "text/plain": [
              "<IPython.core.display.Javascript object>"
            ],
            "application/javascript": [
              "\n",
              "    async function download(id, filename, size) {\n",
              "      if (!google.colab.kernel.accessAllowed) {\n",
              "        return;\n",
              "      }\n",
              "      const div = document.createElement('div');\n",
              "      const label = document.createElement('label');\n",
              "      label.textContent = `Downloading \"${filename}\": `;\n",
              "      div.appendChild(label);\n",
              "      const progress = document.createElement('progress');\n",
              "      progress.max = size;\n",
              "      div.appendChild(progress);\n",
              "      document.body.appendChild(div);\n",
              "\n",
              "      const buffers = [];\n",
              "      let downloaded = 0;\n",
              "\n",
              "      const channel = await google.colab.kernel.comms.open(id);\n",
              "      // Send a message to notify the kernel that we're ready.\n",
              "      channel.send({})\n",
              "\n",
              "      for await (const message of channel.messages) {\n",
              "        // Send a message to notify the kernel that we're ready.\n",
              "        channel.send({})\n",
              "        if (message.buffers) {\n",
              "          for (const buffer of message.buffers) {\n",
              "            buffers.push(buffer);\n",
              "            downloaded += buffer.byteLength;\n",
              "            progress.value = downloaded;\n",
              "          }\n",
              "        }\n",
              "      }\n",
              "      const blob = new Blob(buffers, {type: 'application/binary'});\n",
              "      const a = document.createElement('a');\n",
              "      a.href = window.URL.createObjectURL(blob);\n",
              "      a.download = filename;\n",
              "      div.appendChild(a);\n",
              "      a.click();\n",
              "      div.remove();\n",
              "    }\n",
              "  "
            ]
          },
          "metadata": {}
        },
        {
          "output_type": "display_data",
          "data": {
            "text/plain": [
              "<IPython.core.display.Javascript object>"
            ],
            "application/javascript": [
              "download(\"download_6ad3255e-8fc5-4e0c-9f84-91ef95278926\", \"file.zip\", 361900396)"
            ]
          },
          "metadata": {}
        }
      ]
    }
  ]
}